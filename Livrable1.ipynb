{
 "cells": [
  {
   "cell_type": "markdown",
   "id": "f782f131-21fd-4a0b-bbde-13037e738019",
   "metadata": {},
   "source": [
    "# Projet Ademe\n",
    "\n",
    "\n"
   ]
  },
  {
   "cell_type": "markdown",
   "id": "e58d55d9-832f-4f04-a35e-e8f814e93c26",
   "metadata": {},
   "source": [
    "## Contexte : \n",
    "L’ADEME (Agence de l’Environnement et de la Maîtrise de l’Energie) a récemment lancé un appel à manifestation d’intérêt pour promouvoir la réalisation de démonstrateurs et d’expérimentations de nouvelles solutions de mobilité pour les personnes et les marchandises adaptées à différents types de territoires.\n",
    "\n",
    "En tant que membre CesiCDP une organisation déja implamtée dans le domaine et ayant réalisé plusieurs études sur le thème de la Mobilité Multimodale intelligente, nous souhaitons répondre à cet appel afin d'obtenir de nouveaux marchés pour continuer à développer notre activité. Nous décidons d'orienter notre étude sur la gestion de tournées de livraison en proposant un solution pour calculer sur un réseau routier donné une tournée de livraison (de l'ordre du millier) afin de minimiser la durée totale de la tournée en respectant des contraintes pré-établies."
   ]
  },
  {
   "cell_type": "markdown",
   "id": "6d0cfc57-94f2-408f-b5a3-33bd75668b0c",
   "metadata": {},
   "source": [
    "## <a id=\"contraintes\"> Contraintes retenues </a>\n",
    " - Durant une tournée, les collaborateurs doivent livrer différents types d'objets. Chaque type d'objet devra donc être récupéré à un point de collecte spécifique.\n",
    " - Pour des soucis de réalisme et en vue d'une variation du traffic importante, nous avons décidé de faire varier au cours du temps la durée de parcours d'une arête (on fait varier sa longueur)"
   ]
  },
  {
   "attachments": {},
   "cell_type": "markdown",
   "id": "646498f9-fbf0-4d67-8c71-88b88cdbad76",
   "metadata": {
    "jp-MarkdownHeadingCollapsed": true
   },
   "source": [
    "## Formalisation de la situation\n",
    "Pour apporter une réponse à ce problème, nous allons d'abord modéliser la situation. Cela inclut une représentation du problème, des données ainsi que de l'objectif à optimiser.\n",
    " \n",
    "Nous avons en notre possession une carte sur laquelle un nombre N de villes sont positionnées dans lesquelles nous effectuons notre tournée. Ces villes sont reliées entre elles par un certain nombre M de routes.\n",
    "Nous notons V l'ensemble des villes de cette carte et E l'ensemble des routes les reliants.\n",
    "\n",
    "Nous ponvons modéliser cette carte avec un graphe G tels que G(V,E).\n",
    "\n",
    "### Objectifs\n",
    "Notre objectif est donc de proposer un algorithme qui va prendre le graphe G en entrée et qui va fournir en un temps raisonnable un chemin passant par les villes dans lesquelles les colis doivent être livrés.\n",
    "La solution sera une liste contenant toutes les villes du graphe rangées par ordre de visite de façon à minimiser certaines variables en fonction des contraintes retenues. La contrainte initiale consiste à partir du point de dépot et d'y revenir, ce qui est formalisé par un cycle ayant pour départ et arrivée le point de dépot.\n",
    "\n",
    "Les différentes variables à minimiser sont choisies (au lancement de l'algorithme) parmi la liste suivante : \n",
    "- le nombre de Kilomètres parcourus\n",
    "- le temps de trajet\n",
    "- le coût de trajet\n",
    "- etc..\n",
    "\n",
    "Enfin il faut pouvoir respecter <a href=\"#contraintes\"> les contraintes definies plus haut </a>.\n",
    "\n",
    "Pour modéliser ces objectifs nous pouvons dire que cela revient à trouver un cycle tout en minimisant une certaine valeure K (qui correspond aux paramètres situés ci-dessus). On peut donc rapporter cette situation au problème du voyageur incomplet (quand on ne prend pas en compte nos contraintes)\n",
    "Nous avons donc un graphe pondéré dont le poids des arêtes va changer selon le paramètre à minimiser ainsi que les contraintes prises en compte.\n",
    "\n",
    "Nous allons maintenant prouver que ce problème dérive du problème du voyageur !"
   ]
  },
  {
   "cell_type": "markdown",
   "id": "95d81028-4fcd-48d6-9b37-25909997c20a",
   "metadata": {},
   "source": [
    "## Démonstration\n",
    "Pour prouver que ce problème est un problème NP-complet, on va essayer de montrer qu'il se rapporte à celui du voyageur qui est lui-même un problème NP-Complet.\n",
    "En effet, pour prouver qu'un problème est NP-complet il faut prouver que ce problème dérive d'une instance appartenant déjà à la classe NP-complet.\n",
    "Ainsi on peut essayer de montrer la NP-complétude de notre problème en le dérivant en une instance de celui du voyageur.\n",
    "\n",
    "### Problème du voyageur incomplet\n",
    "\n",
    "On montre dans un premier temps que la situation sans contrainte est un problème NP-Complet, puisqu'il peut se ramener à un problème du voyageur incomplet.\n",
    "\n",
    "En partant de la situation formalisée, le graphe G(V, E) possède un point de départ (étant le seul point de dépot), est connexe (un chemin reliant une ville à n'importe quelle autre ville existe) mais pas complet (pas forcément de liaison directe entre chaque ville).\n",
    "\n",
    "En effet, pour effectuer une tournée, on part d'un point de dépôt qui est donc un sommet du graphe G. Nous avons une liste d'objets à livrer avec pour chacun la ville de livraison. Nous avons donc un sous ensemble de sommets du graphe G à visiter. Dans notre cas certaines villes ne sont pas reliées entres elles nous sommes donc dans un graphe incomplet\n",
    "\n",
    "// Démonstration + source\n",
    "\n",
    "### Ajout des contraintes\n",
    "\n",
    "#### Contrainte de variation du poids des arêtes en fonction du temps\n",
    "\n",
    "Le changement de poids sur les arêtes en fonction du trafic sera représenté par une fonction avec le temps en variable permettant de  donner le poids de l'arête au cours de la journée. \\\n",
    "De ce fait, le graphe ne respecte plus l'inégalité triangulaire. Cependant, cela ne change rien à la situation précédente : seul certains algorithmes ne seront plus applicables. \\\n",
    "Cette contrainte s'applique uniquement si le poids dépend en partie du temps (Exemples : temps de parcours, consommation). À l'inverse, on peut imaginer baser le poids des arêtes uniquement sur la distance entre chaque ville, autrement dit indépendant du temps.\n",
    "\n",
    "#### Contrainte d'ajout de points de dépôt\n",
    "\n",
    "//     <a href=\"https://univ.scholarvox.com/reader/docid/88817457/page/85\">DAG</a>\n",
    "\n",
    "// Démonstration + source"
   ]
  }
 ],
 "metadata": {
  "kernelspec": {
   "display_name": "ademe",
   "language": "python",
   "name": "ademe"
  },
  "language_info": {
   "codemirror_mode": {
    "name": "ipython",
    "version": 3
   },
   "file_extension": ".py",
   "mimetype": "text/x-python",
   "name": "python",
   "nbconvert_exporter": "python",
   "pygments_lexer": "ipython3",
   "version": "3.12.3"
  }
 },
 "nbformat": 4,
 "nbformat_minor": 5
}
