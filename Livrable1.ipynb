{
 "cells": [
  {
   "cell_type": "markdown",
   "id": "f782f131-21fd-4a0b-bbde-13037e738019",
   "metadata": {},
   "source": [
    "# Projet Ademe\n",
    "\n",
    "\n"
   ]
  },
  {
   "cell_type": "markdown",
   "id": "e58d55d9-832f-4f04-a35e-e8f814e93c26",
   "metadata": {},
   "source": [
    "## Contexte : \n",
    "L’ADEME (Agence de l’Environnement et de la Maîtrise de l’Energie) a récemment lancé un appel à manifestation d’intérêt pour promouvoir la réalisation de démonstrateurs et d’expérimentations de nouvelles solutions de mobilité pour les personnes et les marchandises adaptées à différents types de territoires.\n",
    "En tant que membre CesiCDP une organisation déja implamtée dans le domaine et ayant réalisé plusieurs études sur le thèmes de la Mobilité Multimodale intelligente nous souhaitons répondre à cet appel de l'ADEME afin d'obtenir de nouveaux marchés pour continuer à déelopper notre activité. Nous décidons d'orienter notre étude sur la gestion de tournées de livraison en proposant un solution pour calculer sur un réseau routier donné une tournée de livraison (de l'ordre du milliers) afin de minimiser la durée totale de la tournée en respectant des contraintes pré-établies."
   ]
  },
  {
   "cell_type": "markdown",
   "id": "6d0cfc57-94f2-408f-b5a3-33bd75668b0c",
   "metadata": {},
   "source": [
    "## <a id=\"contraintes\"> Contraintes retenues </a>\n",
    " - Durant une tournée les collaborateurs doivent livrés différents types objets. Chaque types d'objets devra donc être récupérés à un point de collecte spécifique\n",
    " - Pour des soucis de réalisme et en vue d'une variation du traffic importnate nous avons décidé de faire varié au cours du temps la durée de parcours d'une arrête (on fait varier sa longueur)\n",
    "   "
   ]
  },
  {
   "attachments": {},
   "cell_type": "markdown",
   "id": "646498f9-fbf0-4d67-8c71-88b88cdbad76",
   "metadata": {
    "jp-MarkdownHeadingCollapsed": true
   },
   "source": [
    "## Formalisation de la situation\n",
    "Nous allons procéder à la reformulation formelle de la situation qui nous fait face. Cela inclut une représentation du problème, des données ainsi que de l'objectif à optimiser.\n",
    "\n",
    "### Problème \n",
    "Nous avons entre notre possession une carte sur laquelle un nombre N de villes sont positionnées dans lequels nous effectuons notre tournée. Ces villes sont reliées entre elles par un certains nombre M de routes.\n",
    "Nous notons V l'ensemble des villes de cette carte et E l'ensemble des routes les reliants.\n",
    "\n",
    "Nous ponvons modéliser cette carte avec un graphe G tels que G(V,E).\n",
    "\n",
    "### Objectifs\n",
    "Notre objectif est donc de proposer un algorithme qui va prendre  le grpahe G en entrée et qui va fournir en un temps raisonnable une solution qui consistera en un ensemble de villes à parcourir.\n",
    "Cet ensemble contiendra toutes les villes du graphe rangées par ordre de visite. Cette solutioncommencera par une certaine ville A et finira par cette même ville A. \n",
    "\n",
    "De plus la solution devra minimiser certains paramètres choisis (au lancement de l'algorithme) comme : \n",
    "- le nombre de Kilomètres parcourus\n",
    "- le temps de trajet\n",
    "- le coût de trajet\n",
    "- etc..\n",
    "\n",
    "Enfin il faut pouvoir respecter <a href=\"#contraintes\"> les contraintes definis plus haut </a>.\n",
    "\n",
    "Pour modéliser ces objectifs nous pouvons dire que cela revient à trouver un cycle Hamiltonien tout en minisant une certaine valeure K (qui correspond aux paramètres situé si dessus). On peut donc rapporter cette situation au problème du voyageur incomplet( quand on ne prend pas en compte nos contraintes)\n",
    "Nous avons donc un graphe pondéré dont le poids des arretes va chnager selon le paramètre à minimiser ainsi que les contraintes prises en compte.\n",
    "\n",
    "Nous allons maintenant prouver que ce problème dérive du problème du voyageur !\n"
   ]
  },
  {
   "cell_type": "markdown",
   "id": "95d81028-4fcd-48d6-9b37-25909997c20a",
   "metadata": {},
   "source": [
    "## Démonstration\n",
    "Pour prouver que ce problème ce rapporte à celui du voyageur nous pouvons utilisé le fait que ce dernier est un problème NP-Complet.\n",
    "En effet, pour prouver qu'un problème est NP-complet il faut prouver que ce problème dérive d'une instance appartenant déjà à la classe NP-complet.\n",
    "Ainsi on peut essayer de montrer la NP-complétude de notre problème en le dérivant en une instance de celui du voyageur.\n",
    "\n",
    "Pour effectuer une tournée on part d'un point de dépôt qui est donc un sommet du graphe G. Nous avons une liste d'objet à livrer avec pour chacun la ville de livraison, nous avons donc un sous ensemble de sommets du graphe G à visiter. Dans notre cas certaines villes ne sont pas reliées entres elles \n",
    "nous sommes donc dans un \n"
   ]
  },
  {
   "cell_type": "code",
   "execution_count": null,
   "id": "b5ff8f32-410e-4e96-b859-0545f3af4892",
   "metadata": {},
   "outputs": [],
   "source": []
  }
 ],
 "metadata": {
  "kernelspec": {
   "display_name": "ademe",
   "language": "python",
   "name": "ademe"
  },
  "language_info": {
   "codemirror_mode": {
    "name": "ipython",
    "version": 3
   },
   "file_extension": ".py",
   "mimetype": "text/x-python",
   "name": "python",
   "nbconvert_exporter": "python",
   "pygments_lexer": "ipython3",
   "version": "3.12.3"
  }
 },
 "nbformat": 4,
 "nbformat_minor": 5
}
