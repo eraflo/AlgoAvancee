{
 "cells": [
  {
   "cell_type": "code",
   "execution_count": null,
   "id": "52512ca9-982b-4d50-aeaa-d4f802142857",
   "metadata": {},
   "outputs": [],
   "source": []
  }
 ],
 "metadata": {
  "kernelspec": {
   "display_name": "",
   "name": ""
  },
  "language_info": {
   "name": ""
  }
 },
 "nbformat": 4,
 "nbformat_minor": 5
}
