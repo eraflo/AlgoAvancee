{
 "cells": [
  {
   "cell_type": "markdown",
   "id": "f57a002d-3dc6-4ed6-87f4-78a147bc3718",
   "metadata": {},
   "source": [
    "$X_{ij}(t)$ : l'itinéraire passe de $i$ à $j$ à l'instant $t$, $X_{ij} \\in \\{0, 1\\}, i = 1, 2, ..., n, j = 1, 2, ..., n$, t = 1, 2, ..., T et $i \\neq j$ avec $n$ le nombre de villes et $T$ l'instant "
   ]
  },
  {
   "cell_type": "markdown",
   "id": "1e3efc2a-8f46-4fb3-b3fa-3820a7ce5091",
   "metadata": {},
   "source": [
    "$C_{ij}(t)$ : coût de l'itinéraire au niveau du chemin $ij$ à l'instant $t$"
   ]
  },
  {
   "cell_type": "markdown",
   "id": "0552c3aa-318f-4b4d-abad-6fb199a2481a",
   "metadata": {},
   "source": [
    "$Y_{ik}$ : il y a un objet $k$ à livrer à la ville $i$, $Y_{ik} \\in \\{0, 1\\}$, $k = 1, 2, ..., m$ avec $m$ le nombre d'objets différents"
   ]
  },
  {
   "cell_type": "markdown",
   "id": "5e987334-1cb5-459a-a9ff-cf3306097e0a",
   "metadata": {},
   "source": [
    "$D_k$ : l'ensemble des dépots de l'objet $k$"
   ]
  },
  {
   "cell_type": "markdown",
   "id": "4b3aa268-2724-4fd0-9dd9-cbe58737ef98",
   "metadata": {},
   "source": [
    "$Z_{ijk}(t) \\in \\{0, 1\\}, \\quad \\forall i, j, k, t$ : Variable binaire indiquant si un véhicule transporte l'objet $𝑘$ lorsqu'il se déplace de $i$ à $j$ à l'instant $t$.\n"
   ]
  },
  {
   "cell_type": "markdown",
   "id": "260ba5cd-ff77-4a5e-9bbb-dbe9e69cb44b",
   "metadata": {},
   "source": [
    "$ $ "
   ]
  },
  {
   "cell_type": "markdown",
   "id": "62976dc7-ec8a-4ab4-8c57-831df3a9417f",
   "metadata": {},
   "source": [
    "Fonction Objectif : $\\min(F(X_{ij}, C_{ij}, Y_{ij}, D_k)) = \\min(\\sum_{t=1}^T\\sum_{i=1}^n\\sum_{j=1}^nX_{ij}(t) * C_{ij}(t))$"
   ]
  },
  {
   "cell_type": "markdown",
   "id": "676493ef-16a3-4460-abb4-4568d7c102c2",
   "metadata": {},
   "source": [
    "$ $"
   ]
  },
  {
   "cell_type": "markdown",
   "id": "4da7fa37-4760-443f-9a0e-e8d673ed4ecd",
   "metadata": {},
   "source": [
    "Contraintes"
   ]
  },
  {
   "cell_type": "markdown",
   "id": "82514c47-66b2-438d-8bd5-ab1d48656bad",
   "metadata": {},
   "source": [
    "- Contraintes de chemin"
   ]
  },
  {
   "cell_type": "markdown",
   "id": "b5e6b40b-c662-49f0-b195-1fae704c787b",
   "metadata": {},
   "source": [
    "$\\sum_{j=1, j\\neq i}^n X_{ij}(t) = 1, \\forall i,t $ (à chaque instant $t$, on doit quitter une seule ville)"
   ]
  },
  {
   "cell_type": "markdown",
   "id": "b49934b6-0747-4843-9204-f84ba323e6cb",
   "metadata": {},
   "source": [
    "$\\sum_{i=1, i\\neq j}^n X_{ij}(t) = 1, \\forall j,t $ (à chaque instant $t$, on doit rentrer dans une seule ville)"
   ]
  },
  {
   "cell_type": "markdown",
   "id": "facb8b32-d8e9-4526-aea2-25b290944176",
   "metadata": {},
   "source": [
    "- Contrainte de livraisons finies"
   ]
  },
  {
   "cell_type": "markdown",
   "id": "a91d12f3-8396-42b6-99cb-9e0b51859807",
   "metadata": {},
   "source": [
    "$\\sum_{i=1}^n Y_{ik} = 0, \\forall k$"
   ]
  },
  {
   "cell_type": "markdown",
   "id": "cc77d5ee-ee8b-468a-80b6-478d80043387",
   "metadata": {},
   "source": [
    "- Contrainte de possession d'objet à livrer"
   ]
  },
  {
   "cell_type": "markdown",
   "id": "aacaaebd-f154-4d73-9e29-83523e521ca2",
   "metadata": {},
   "source": [
    "$  \\sum_{t=1}^{T} \\sum_{j=1}^{n} Z_{ijk}(t) \\geq Y_{ik}, \\quad \\forall i, k $.  Avec comme contrainte que $𝑘$ peut être transporté de \n",
    "$i$ à $j$ à l'instant $t$ uniquement si le véhicule effectue réellement ce trajet. $ Z_{ijk}(t) \\leq X_{ij}(t), \\quad \\forall i, j, k, t$\n"
   ]
  },
  {
   "cell_type": "markdown",
   "id": "637d4097-56f3-4fd6-863c-fcd93a0b668c",
   "metadata": {},
   "source": [
    "- Contrainte de retour au point de départ"
   ]
  },
  {
   "cell_type": "markdown",
   "id": "52c9c257-63e4-4530-b3f7-b7ddafa61858",
   "metadata": {},
   "source": [
    "$ \\sum_{i=1, i \\neq s_0}^{n} X_{is_0}(T) = 1 \\quad  $\n",
    ". $s_0$ étant la ville de départ"
   ]
  },
  {
   "cell_type": "markdown",
   "id": "8f677ebe-eeb3-4509-9428-c75921ad0d3d",
   "metadata": {},
   "source": [
    "La somme \n",
    "$ \n",
    "\\sum_{i=1, i \\neq s_0}^{n} X_{is_0}(T)\n",
    "$ \n",
    "additionne toutes les variables binaires $ X_{is_0}(T)$  où $ i \\ $ représente toutes les villes possibles que le véhicule pourrait atteindre à l'instant $\\ T \\ $, sauf la ville de départ elle-même $s_0  $.\n",
    "\n",
    "La somme étant égale à 1 signifie qu'il y a exactement un trajet vers la ville de départ $\\ s_0 \\ $ à la fin de la période de livraison $\\ T \\ $, assurant ainsi le retour à la ville de départ.\n"
   ]
  },
  {
   "cell_type": "markdown",
   "id": "c8d09243-810d-4295-9bb4-0724e7d3135c",
   "metadata": {},
   "source": [
    "# Méthode de résolution choisie\n"
   ]
  },
  {
   "cell_type": "markdown",
   "id": "6732d166-b5a6-448c-a57c-2dde3bc15066",
   "metadata": {},
   "source": [
    "## Méthode de Résolution : Algorithme Génétique pour le Problème de Tournée de Livraison\n",
    "Pour résoudre le problème de tournée de livraison modélisé précédemment, nous optons pour l'utilisation d'un Algorithme Génétique (AG). Les AG sont particulièrement adaptés pour les problèmes d'optimisation combinatoire complexes comme celui-ci, car ils permettent une exploration efficace de l'espace de solutions tout en évitant les minima locaux."
   ]
  },
  {
   "cell_type": "markdown",
   "id": "a408d495-7944-4dde-90c5-07b5f421cb2b",
   "metadata": {},
   "source": [
    "### Détails de l'Algorithme Génétique"
   ]
  },
  {
   "cell_type": "markdown",
   "id": "f6847d67-855a-4879-abc8-e61c583dbee0",
   "metadata": {},
   "source": [
    "#### Représentation et Modélisation\n",
    " ##### Individu (chromosome):\n",
    "\n",
    "Chaque individu représente une solution potentielle au problème de tournée. Un chromosome est une séquence de villes visitée par le véhicule, suivie des objets transportés par ce véhicule.\n",
    "Par exemple, pour un véhicule et cinq villes (y compris le dépôt), un chromosome pourrait être représenté comme suit : [0, 1, 2, 3, 4, 5, 0], où la séquence représente la tournée du véhicule en commençant et en terminant au dépôt.\n",
    "##### Gène :\n",
    "\n",
    "Chaque gène dans le chromosome représente une ville ou un objet transporté par le véhicule à une étape donnée de la tournée.\n",
    "###### Population Initiale\n",
    "Une population initiale est générée aléatoirement. Chaque individu de la population représente une solution possible, c'est-à-dire une séquence de villes et d'objets transportés par le véhicule.\n",
    "###### Évaluation de la fonctiojn  objetcif (fitness)\n",
    "La fonction de fitness évalue la qualité de chaque individu en calculant le coût total de la tournée de livraison, en tenant compte des distances parcourues et des contraintes respectées (livraison d'objets uniquement si présents dans le véhicule, retour au point de départ, etc.).\n",
    "###### Sélection\n",
    "Les individus sont sélectionnés pour la reproduction en fonction de leur fitness. Des techniques comme la sélection par tournoi ou la sélection proportionnelle (roulette wheel) peuvent être utilisées. Les individus avec une meilleure fitness ont une probabilité plus élevée d'être sélectionnés.\n",
    "###### Croisement \n",
    "Opération de Croisement: Deux parents sont sélectionnés pour produire des descendants. Une méthode courante est le croisement en un point (one-point crossover), où une partie de la séquence de l'un des parents est combinée avec une partie de la séquence de l'autre parent.\n",
    "\n",
    "Exemple:\n",
    "\n",
    "Parent 1: [0, 1, 2, 3, 4, 5, 0]\n",
    "\n",
    "Parent 2: [0, 5, 4, 3, 2, 1, 0]\n",
    "\n",
    "Descendant: [0, 1, 2, 3, 4, 1, 0]\n",
    "###### Mutation\n",
    "Opération de Mutation: Pour maintenir la diversité génétique au sein de la population et éviter la convergence prématurée, une mutation est appliquée aux descendants. Une mutation typique peut échanger deux villes aléatoires dans la tournée du véhicule.\n",
    "\n",
    "Exemple: [0, 1, 2, 3, 4, 5, 0] pourrait muter en [0, 1, 3, 2, 4, 5, 0].\n",
    "###### Remplacement\n",
    "Les nouveaux descendants remplacent une partie ou la totalité de la population actuelle, selon une stratégie spécifique (remplacement par les meilleurs, remplacement élitiste, etc.).\n",
    "###### Arrêt\n",
    "L'algorithme s'arrête après un nombre fixe de générations ou lorsque la solution atteint un critère de convergence (par exemple, pas de meilleure solution trouvée depuis un certain nombre de générations)."
   ]
  },
  {
   "cell_type": "markdown",
   "id": "50ea8ecf-ab70-4991-8baf-f8bcc4f42bf9",
   "metadata": {},
   "source": [
    "### Formalisation du Problème"
   ]
  },
  {
   "cell_type": "markdown",
   "id": "046d26a4-f125-440c-aaa9-5fbbd788e760",
   "metadata": {},
   "source": [
    "#### Voisinage\n",
    "Le voisinage d'une solution est défini par les solutions obtenues en appliquant des mutations mineures ou des croisements à la solution actuelle. Cela inclut l'échange de deux villes dans la tournée du véhicule.\n",
    "#### Opérations de Croisement et de Mutation\n",
    "Croisement: Combine les tournées de deux parents pour créer un descendant. Par exemple, un croisement en un point combine deux segments de tournées différentes.\n",
    "Mutation: Introduit une variation en échangeant des villes dans une tournée ou en changeant la possession d'objets."
   ]
  },
  {
   "cell_type": "markdown",
   "id": "05f98706-61e0-44f2-a3fe-0af29f2e5320",
   "metadata": {},
   "source": [
    "### Méthodologie\n",
    "#### Initialisation:\n",
    "\n",
    "Générer une population initiale aléatoire.\n",
    "#### Évaluation:\n",
    "\n",
    "Calculer la fitness de chaque individu.\n",
    "#### Sélection:\n",
    "\n",
    "Sélectionner les meilleurs individus pour la reproduction.\n",
    "#### Croisement:\n",
    "\n",
    "Appliquer le croisement pour produire de nouveaux individus.\n",
    "#### Mutation:\n",
    "\n",
    "Appliquer la mutation pour introduire de la diversité.\n",
    "#### Remplacement:\n",
    "\n",
    "Mettre à jour la population avec les nouveaux individus.\n",
    "#### Arrêt:\n",
    "\n",
    "Répéter les étapes jusqu'à atteindre un critère d'arrêt (meilleur solution ou pas de solution)."
   ]
  },
  {
   "cell_type": "markdown",
   "id": "cf55c43c-1345-45e4-896f-20a70c196d8b",
   "metadata": {},
   "source": [
    "En conclusion, l'Algorithme Génétique est bien adapté pour résoudre le problème de tournée de livraison avec un unique véhicule en raison de sa flexibilité, de sa capacité à gérer des contraintes complexes, et de son efficacité à explorer l'espace de solutions. Il permet de trouver des solutions optimales ou quasi-optimales pour des problèmes d'optimisation combinatoire difficiles."
   ]
  },
  {
   "cell_type": "code",
   "execution_count": null,
   "id": "83319860-8c6d-4c2c-bb2b-2f384c6779dc",
   "metadata": {},
   "outputs": [],
   "source": []
  }
 ],
 "metadata": {
  "kernelspec": {
   "display_name": "Python 3 (ipykernel)",
   "language": "python",
   "name": "python3"
  },
  "language_info": {
   "codemirror_mode": {
    "name": "ipython",
    "version": 3
   },
   "file_extension": ".py",
   "mimetype": "text/x-python",
   "name": "python",
   "nbconvert_exporter": "python",
   "pygments_lexer": "ipython3",
   "version": "3.12.3"
  }
 },
 "nbformat": 4,
 "nbformat_minor": 5
}
