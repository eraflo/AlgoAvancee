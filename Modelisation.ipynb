{
 "cells": [
  {
   "cell_type": "markdown",
   "id": "f57a002d-3dc6-4ed6-87f4-78a147bc3718",
   "metadata": {},
   "source": [
    "$X_{ij}$ : l'itinéraire passe de $i$ à $j$, $X_{ij} \\in \\{0, 1\\}, i = 1, 2, ..., n, j = 1, 2, ..., n$, et $i \\neq j$ avec $n$ le nombre de villes"
   ]
  },
  {
   "cell_type": "markdown",
   "id": "b0979e57-4f90-47e8-a0d3-3cfa79ab059b",
   "metadata": {},
   "source": [
    "<!-- $C_e$: coût à l'étape $e$"
   ]
  },
  {
   "cell_type": "markdown",
   "id": "1e3efc2a-8f46-4fb3-b3fa-3820a7ce5091",
   "metadata": {},
   "source": [
    "$C_{ij}(T)$ : coût de l'itinéraire au niveau du chemin $ij$ durant la période $T$"
   ]
  },
  {
   "cell_type": "markdown",
   "id": "0552c3aa-318f-4b4d-abad-6fb199a2481a",
   "metadata": {},
   "source": [
    "$Y_{i}^{k}$ : il y a un objet $k$ à livrer à la ville $i$, $Y_{i}^{k} \\in \\{0, 1\\}$, $k = 1, 2, ..., m$ avec $m$ le nombre d'objets différents"
   ]
  },
  {
   "cell_type": "markdown",
   "id": "5e987334-1cb5-459a-a9ff-cf3306097e0a",
   "metadata": {},
   "source": [
    "$D^k$ : l'ensemble des dépots de l'objet $k$"
   ]
  },
  {
   "cell_type": "markdown",
   "id": "59f431a7-12d9-4c04-92af-be382ef5527f",
   "metadata": {},
   "source": [
    "$P_{k}$ je possède l'objet $k$"
   ]
  },
  {
   "cell_type": "markdown",
   "id": "4b3aa268-2724-4fd0-9dd9-cbe58737ef98",
   "metadata": {},
   "source": [
    "<!--${ijk}(t) \\in \\{0, 1\\}, \\quad \\forall i, j, k, t$ : Variable binaire indiquant si un véhicule transporte l'objet $𝑘$ lorsqu'il se déplace de $i$ à $j$ à l'instant $t$.\n"
   ]
  },
  {
   "cell_type": "markdown",
   "id": "260ba5cd-ff77-4a5e-9bbb-dbe9e69cb44b",
   "metadata": {},
   "source": [
    "$Z_{ij} $: il existe un chemin entre $i$ et $j $ "
   ]
  },
  {
   "cell_type": "markdown",
   "id": "62976dc7-ec8a-4ab4-8c57-831df3a9417f",
   "metadata": {},
   "source": [
    "Fonction Objectif : $\\min(F(X_{ij}, C_{ij}, Y_{ij}, D_k)) = \\min(\\sum_{T=1}^N\\sum_{i=1}^n\\sum_{j=1}^nX_{ij} * C_{ij}(T))$"
   ]
  },
  {
   "cell_type": "markdown",
   "id": "676493ef-16a3-4460-abb4-4568d7c102c2",
   "metadata": {},
   "source": [
    "$ $"
   ]
  },
  {
   "cell_type": "markdown",
   "id": "4da7fa37-4760-443f-9a0e-e8d673ed4ecd",
   "metadata": {},
   "source": [
    "Contraintes"
   ]
  },
  {
   "cell_type": "markdown",
   "id": "82514c47-66b2-438d-8bd5-ab1d48656bad",
   "metadata": {},
   "source": [
    "- Contraintes de chemin"
   ]
  },
  {
   "cell_type": "markdown",
   "id": "b5e6b40b-c662-49f0-b195-1fae704c787b",
   "metadata": {},
   "source": [
    "$X_{ij}(T)*Z_{ij} = 1, \\forall i,j,T $ "
   ]
  },
  {
   "cell_type": "markdown",
   "id": "facb8b32-d8e9-4526-aea2-25b290944176",
   "metadata": {},
   "source": [
    "- Contrainte de livraisons finies"
   ]
  },
  {
   "cell_type": "markdown",
   "id": "a91d12f3-8396-42b6-99cb-9e0b51859807",
   "metadata": {},
   "source": [
    "$\\sum_{i=1}^n Y_{i}^{k} = 0, \\forall k$"
   ]
  },
  {
   "cell_type": "markdown",
   "id": "cc77d5ee-ee8b-468a-80b6-478d80043387",
   "metadata": {},
   "source": [
    "$% - Contrainte de possession d'objet à livrer$"
   ]
  },
  {
   "cell_type": "markdown",
   "id": "aacaaebd-f154-4d73-9e29-83523e521ca2",
   "metadata": {},
   "source": [
    "$% \\sum_{j=1}^{n-1} Z_{j+1}^{k}(t) \\geq 1, \\quad \\forall  t,k $\n",
    "$% Z_{ijk}(t) \\leq X_{ij}(t)$\n",
    "$%i \\neq j $\n"
   ]
  },
  {
   "cell_type": "markdown",
   "id": "637d4097-56f3-4fd6-863c-fcd93a0b668c",
   "metadata": {},
   "source": [
    "- Contrainte de retour au point de départ"
   ]
  },
  {
   "cell_type": "markdown",
   "id": "52c9c257-63e4-4530-b3f7-b7ddafa61858",
   "metadata": {},
   "source": [
    "$% \\sum_{j \\in V} X_{s_0j}= 1 \\quad  %$\n",
    "<br>\n",
    "$ X_{ij}(T =0)= X_{ij}(T=L) \\forall i,j \\quad $\n",
    "<br>"
   ]
  },
  {
   "cell_type": "markdown",
   "id": "0c1a463a-a084-405b-8986-5c0c6a4eefea",
   "metadata": {},
   "source": [
    "<!-- - Contrainte de livraison"
   ]
  },
  {
   "cell_type": "markdown",
   "id": "8f677ebe-eeb3-4509-9428-c75921ad0d3d",
   "metadata": {},
   "source": [
    "$%\\sum_{e=1}^{l}{P^{k}(e)} \\leq \\sum_{i \\in D_k}X_{ij}(e),  \\forall k$\n",
    "<!--$$ \n",
    "\\begin{equation}\n",
    "Y_{ik}=\n",
    "\\begin{cases}\n",
    "    Y_{ik} -1 \\ si \\ P_{ik}=1\\\n",
    "    \\\\\n",
    "    Y_{ik} \\ si\\ P_{ik} =0\\\n",
    "\\end{cases}\n",
    "\\end{equation}\n",
    "$$"
   ]
  },
  {
   "cell_type": "markdown",
   "id": "20fd9312-b5fa-463e-aa22-23913563cb5f",
   "metadata": {},
   "source": [
    "$\\sum_{i}^{n}\\sum_{j}^{n}  X_{ij}(T)*P_{k}= 1;   \\forall T, k; i \\neq j $"
   ]
  },
  {
   "cell_type": "markdown",
   "id": "c8d09243-810d-4295-9bb4-0724e7d3135c",
   "metadata": {},
   "source": [
    "# Méthode de résolution choisie\n"
   ]
  },
  {
   "cell_type": "markdown",
   "id": "6732d166-b5a6-448c-a57c-2dde3bc15066",
   "metadata": {},
   "source": [
    "## Méthode de Résolution : Algorithme de Colonies de Fourmis (Ant Colony Optimization, ACO)\n",
    "L'algorithme de colonies de fourmis (ACO) est une métaheuristique inspirée par le comportement des fourmis cherchant de la nourriture. Cet algorithme est particulièrement utile pour résoudre des problèmes d'optimisation combinatoire, tels que le problème du voyageur de commerce (TSP) ou le problème du sac à dos. Il repose sur la coopération indirecte des fourmis via le dépôt et l'évaporation de phéromones."
   ]
  },
  {
   "cell_type": "markdown",
   "id": "a408d495-7944-4dde-90c5-07b5f421cb2b",
   "metadata": {},
   "source": [
    "### Détails de l'Algorithme Génétique"
   ]
  },
  {
   "cell_type": "markdown",
   "id": "f6847d67-855a-4879-abc8-e61c583dbee0",
   "metadata": {},
   "source": [
    "### Détails de l'Algorithme Utilisé\n",
    "## Initialisation :\n",
    "\n",
    "Paramètres : Définir les paramètres clés tels que le nombre de fourmis, le nombre d'itérations, les taux de phéromones (initial, volatilité), et les coefficients influençant les phéromones et l'heuristique.\n",
    "Phéromones : Initialiser les niveaux de phéromones sur chaque élément (objet, chemin, etc.) de manière uniforme ou avec des valeurs spécifiques.\n"
   ]
  },
  {
   "cell_type": "markdown",
   "id": "50ea8ecf-ab70-4991-8baf-f8bcc4f42bf9",
   "metadata": {},
   "source": [
    "### Construction des Solutions :\n",
    "\n",
    "Voisinage et Sélection : Chaque fourmi construit une solution en ajoutant progressivement des composants (objets dans le cas du sac à dos). La probabilité de choisir un composant dépend des niveaux de phéromones et de l'heuristique locale.\n",
    "Heuristique : Utiliser une fonction heuristique (par exemple, la valeur par unité de poids pour le problème du sac à dos) pour guider les choix des fourmis.\n",
    "Contraintes : Assurer que les solutions respectent les contraintes du problème (comme ne pas dépasser la capacité maximale du sac)."
   ]
  },
  {
   "cell_type": "markdown",
   "id": "046d26a4-f125-440c-aaa9-5fbbd788e760",
   "metadata": {},
   "source": [
    "### Mise à Jour des Phéromones :\n",
    "\n",
    "Évaporation : Réduire les niveaux de phéromones de manière uniforme pour simuler la volatilité naturelle des phéromones.\n",
    "Dépôt : Augmenter les niveaux de phéromones sur les composants utilisés dans les solutions de haute qualité trouvées par les fourmis.\n"
   ]
  },
  {
   "cell_type": "markdown",
   "id": "05f98706-61e0-44f2-a3fe-0af29f2e5320",
   "metadata": {},
   "source": [
    "### Critère d'Arrêt :\n",
    "\n",
    "Itérations : Répéter les étapes de construction et de mise à jour des phéromones pour un nombre fixe d'itérations ou jusqu'à ce que les solutions convergent."
   ]
  },
  {
   "cell_type": "markdown",
   "id": "cf55c43c-1345-45e4-896f-20a70c196d8b",
   "metadata": {},
   "source": [
    "### Modélisation du Problème\n",
    "Pour appliquer l'ACO au problème du sac à dos, voici comment nous modélisons chaque étape selon le formalisme de la métaheuristique :\n",
    "\n",
    "#### Représentation des Solutions :\n",
    "\n",
    "Une solution est représentée comme un vecteur binaire de longueur égale au nombre d'objets, où chaque élément indique si l'objet est inclus (1) ou non (0) dans le sac.\n",
    "#### Voisinage :\n",
    "\n",
    "Le voisinage d'une solution consiste à inverser l'inclusion de chaque objet, générant ainsi des solutions voisines en ajoutant ou retirant un objet du sac.\n",
    "#### Fonction Heuristique :\n",
    "\n",
    "L'heuristique utilisée est la valeur par unité de poids (valeur_objet[i] / poids_objet[i]), qui guide les choix des fourmis lors de la construction des solutions.\n",
    "#### Opérations de Sélection :\n",
    "\n",
    "La sélection des composants (objets) se fait de manière probabiliste en fonction des phéromones et de l'heuristique.\n"
   ]
  },
  {
   "cell_type": "markdown",
   "id": "e8bb1215-a49c-4278-95b4-dcd10c41d937",
   "metadata": {},
   "source": [
    "### Conclusion\n",
    "L'algorithme de colonies de fourmis (ACO) est une approche efficace pour résoudre le problème du sac à dos. Il exploite la coopération indirecte entre les fourmis via les phéromones pour explorer l'espace de recherche de manière équilibrée entre exploration et exploitation. En suivant le formalisme de cette métaheuristique, nous avons modélisé le problème, construit des solutions viables et mis à jour les phéromones pour guider les itérations successives vers des solutions de meilleure qualité."
   ]
  },
  {
   "cell_type": "markdown",
   "id": "db8b2172",
   "metadata": {},
   "source": []
  },
  {
   "cell_type": "markdown",
   "id": "b25dbc8b",
   "metadata": {},
   "source": [
    "### 1. Définition des éléments de base\n",
    "\n",
    "- **Véhicule** :\n",
    "  - $V$ : Un seul véhicule disponible pour la collecte et la livraison.\n",
    "\n",
    "- **Nœuds** :\n",
    "  - $N$ : Ensemble des villes.\n",
    "  - $s_0$ : Nœud de départ du véhicule.\n",
    "\n",
    "- **Requêtes** :\n",
    "  - $R$ : Ensemble des requêtes de collecte et de livraison.\n",
    "  - Chaque requête $r_m$ est définie par une paire $(P_m, D_m)$, où $P_m$ est le point de collecte et $D_m$ est le point de livraison.\n",
    "\n",
    "- **Temps** :\n",
    "  - $t$ : Temps actuel, variable dynamique.\n",
    "  - $t_m^{pickup}$ : Temps de collecte pour la requête $r_m$.\n",
    "  - $t_m^{delivery}$ : Temps de livraison pour la requête $r_m$.\n",
    "  - $T$ : Temps final de la tournée.\n",
    "\n",
    "- **Graph** :\n",
    "  - $A(t) \\subseteq N \\times N$ : Ensemble des arcs disponibles à l'instant $t$, reflétant la connectivité entre les villes. Si $A_{ij}(t) \\neq 1$, alors il n'y a pas de chemin entre $i$ et $j$\n",
    "\n",
    "### 2. Variables de décision\n",
    "\n",
    "- $x_{ij}(t)$ : Variable binaire indiquant si le véhicule se déplace du nœud $i$ au nœud $j$ à l'instant $t$ (1 si oui, 0 sinon).\n",
    "- $p_i(t)$ : Variable binaire indiquant si le nœud $i$ est visité pour une collecte à l'instant $t$ (1 si oui, 0 sinon).\n",
    "- $d_i(t)$ : Variable binaire indiquant si le nœud $i$ est visité pour une livraison à l'instant $t$ (1 si oui, 0 sinon).\n",
    "\n",
    "### 3. Contraintes\n",
    "\n",
    "1. **Collecte avant livraison** :\n",
    "\n",
    "   $\n",
    "   t_m^{pickup} \\leq t_m^{delivery} \\quad \\forall r_m \\in R\n",
    "   $\n",
    "\n",
    "\n",
    "2. **Lien collecte-livraison** :\n",
    "\n",
    "   $\n",
    "   d_i(t) \\leq \\sum_{t' \\leq t} p_{P_m}(t') \\quad \\forall t, \\forall i \\text{ tel que } i = D_m\n",
    "   $\n",
    "\n",
    "3. **Conservation de flux** :\n",
    "\n",
    "   $\n",
    "   \\sum_{j}^N x_{ij}(t) = \\sum_{j}^N x_{jk}(t+1) \\quad \\forall i, k \\in N, \\forall t$ avec $i \\neq j $ et $k \\neq j\n",
    "   $\n",
    "\n",
    "4. **Départ initial** :\n",
    "\n",
    "   $\n",
    "   \\sum_{j}^N x_{s_0 j}(0) = 1\n",
    "   $\n",
    "   avec\n",
    "   $\n",
    "   A_{s_0, j}(0) = 1\n",
    "   $\n",
    "\n",
    "5. **Retour final** :\n",
    "\n",
    "   $\n",
    "   \\sum_{i}^N x_{i s_0}(T) = 1\n",
    "   $\n",
    "   avec\n",
    "   $ \n",
    "   A_{i, s_0}(T) = 1\n",
    "   $\n",
    "\n",
    "6. **Fin de livraison** :\n",
    "\n",
    "   $\n",
    "   \\sum_{i \\in N} \\sum_{t \\leq T} d_i(t) = \\text{ \\(\\lvert R \\rvert\\)}\n",
    "   $\n",
    "   \n",
    "   Cette contrainte garantit que toutes les livraisons nécessaires ont été effectuées à la fin de la tournée.\n",
    "\n",
    "7. **Connectivité des arcs** :\n",
    "\n",
    "   $\n",
    "   x_{ij}(t) \\leq A_{ij}(t) \\quad \\forall i, j \\in N, \\forall t\n",
    "   $\n",
    "   où $A_{ij}(t)$ est une variable binaire indiquant si un arc entre $i$ et $j$ est disponible à l'instant $t$.\n",
    "\n",
    "### 4. Fonction objectif\n",
    "\n",
    "Minimiser la distance totale parcourue par le véhicule, tenant compte des variations temporelles des distances :\n",
    "$[\n",
    "\\text{Minimiser} \\quad \\sum_{t} \\sum_{i} \\sum_{j} C_{ij}(t) \\cdot x_{ij}(t)\n",
    "]$\n",
    "où $C_{ij}(t)$ est la distance entre les nœuds $i$ et $j$ à l'instant $t$, si l'arc $(i, j) \\in A(t)$."
   ]
  },
  {
   "cell_type": "markdown",
   "metadata": {},
   "source": []
  }
 ],
 "metadata": {
  "kernelspec": {
   "display_name": "Python 3 (ipykernel)",
   "language": "python",
   "name": "python3"
  },
  "language_info": {
   "codemirror_mode": {
    "name": "ipython",
    "version": 3
   },
   "file_extension": ".py",
   "mimetype": "text/x-python",
   "name": "python",
   "nbconvert_exporter": "python",
   "pygments_lexer": "ipython3",
   "version": "3.12.3"
  }
 },
 "nbformat": 4,
 "nbformat_minor": 5
}
