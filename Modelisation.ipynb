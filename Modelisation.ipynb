{
 "cells": [
  {
   "cell_type": "markdown",
   "id": "f57a002d-3dc6-4ed6-87f4-78a147bc3718",
   "metadata": {},
   "source": [
    "$X_{ij}(t)$ : l'itinéraire passe de $i$ à $j$ à l'instant $t$, $X_{ij} \\in \\{0, 1\\}, i = 1, 2, ..., n, j = 1, 2, ..., n$, t = 1, 2, ..., T et $i \\neq j$ avec $n$ le nombre de villes et $T$ l'instant "
   ]
  },
  {
   "cell_type": "markdown",
   "id": "1e3efc2a-8f46-4fb3-b3fa-3820a7ce5091",
   "metadata": {},
   "source": [
    "$C_{ij}(t)$ : coût de l'itinéraire au niveau du chemin $ij$ à l'instant $t$"
   ]
  },
  {
   "cell_type": "markdown",
   "id": "0552c3aa-318f-4b4d-abad-6fb199a2481a",
   "metadata": {},
   "source": [
    "$Y_{ik}$ : il y a un objet $k$ à livrer à la ville $i$, $Y_{ik} \\in \\{0, 1\\}$, $k = 1, 2, ..., m$ avec $m$ le nombre d'objets différents"
   ]
  },
  {
   "cell_type": "markdown",
   "id": "5e987334-1cb5-459a-a9ff-cf3306097e0a",
   "metadata": {},
   "source": [
    "$D_k$ : l'ensemble des dépots de l'objet $k$"
   ]
  },
  {
   "cell_type": "markdown",
   "id": "4b3aa268-2724-4fd0-9dd9-cbe58737ef98",
   "metadata": {},
   "source": [
    "$ $"
   ]
  },
  {
   "cell_type": "markdown",
   "id": "62976dc7-ec8a-4ab4-8c57-831df3a9417f",
   "metadata": {},
   "source": [
    "Fonction Objectif : $\\min(F(X_{ij}, C_{ij}, Y_{ij}, D_k)) = \\min(\\sum_{t=1}^T\\sum_{i=1}^n\\sum_{j=1}^nX_{ij}(t) * C_{ij}(t))$"
   ]
  },
  {
   "cell_type": "markdown",
   "id": "676493ef-16a3-4460-abb4-4568d7c102c2",
   "metadata": {},
   "source": [
    "$ $"
   ]
  },
  {
   "cell_type": "markdown",
   "id": "4da7fa37-4760-443f-9a0e-e8d673ed4ecd",
   "metadata": {},
   "source": [
    "Contraintes"
   ]
  },
  {
   "cell_type": "markdown",
   "id": "82514c47-66b2-438d-8bd5-ab1d48656bad",
   "metadata": {},
   "source": [
    "- Contraintes de chemin"
   ]
  },
  {
   "cell_type": "markdown",
   "id": "b5e6b40b-c662-49f0-b195-1fae704c787b",
   "metadata": {},
   "source": [
    "$\\sum_{j=1, j\\neq i}^n X_{ij}(t) = 1, \\forall i,t $ (à chaque instant $t$, on doit quitter une seule ville)"
   ]
  },
  {
   "cell_type": "markdown",
   "id": "b49934b6-0747-4843-9204-f84ba323e6cb",
   "metadata": {},
   "source": [
    "$\\sum_{i=1, i\\neq j}^n X_{ij}(t) = 1, \\forall j,t $ (à chaque instant $t$, on doit rentrer dans une seule ville)"
   ]
  },
  {
   "cell_type": "markdown",
   "id": "facb8b32-d8e9-4526-aea2-25b290944176",
   "metadata": {},
   "source": [
    "- Contrainte de livraisons finies"
   ]
  },
  {
   "cell_type": "markdown",
   "id": "a91d12f3-8396-42b6-99cb-9e0b51859807",
   "metadata": {},
   "source": [
    "$\\sum_{i=1}^n Y_{ik} = 0, \\forall k$"
   ]
  },
  {
   "cell_type": "markdown",
   "id": "cc77d5ee-ee8b-468a-80b6-478d80043387",
   "metadata": {},
   "source": [
    "- Contrainte de possession d'objet à livrer"
   ]
  },
  {
   "cell_type": "code",
   "execution_count": null,
   "id": "1cc862c4-a3dc-4460-a4a1-f176099f8cfc",
   "metadata": {},
   "outputs": [],
   "source": []
  },
  {
   "cell_type": "markdown",
   "id": "637d4097-56f3-4fd6-863c-fcd93a0b668c",
   "metadata": {},
   "source": [
    "- Contrainte de retour au point de départ"
   ]
  },
  {
   "cell_type": "code",
   "execution_count": null,
   "id": "ba45e347-4f79-49d0-8386-2e8fc1f102b5",
   "metadata": {},
   "outputs": [],
   "source": []
  }
 ],
 "metadata": {
  "kernelspec": {
   "display_name": "Python 3 (ipykernel)",
   "language": "python",
   "name": "python3"
  },
  "language_info": {
   "codemirror_mode": {
    "name": "ipython",
    "version": 3
   },
   "file_extension": ".py",
   "mimetype": "text/x-python",
   "name": "python",
   "nbconvert_exporter": "python",
   "pygments_lexer": "ipython3",
   "version": "3.11.5"
  }
 },
 "nbformat": 4,
 "nbformat_minor": 5
}
